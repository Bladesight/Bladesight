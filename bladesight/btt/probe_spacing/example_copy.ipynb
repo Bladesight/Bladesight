{
 "cells": [
  {
   "cell_type": "code",
   "execution_count": null,
   "metadata": {},
   "outputs": [
    {
     "ename": "",
     "evalue": "",
     "output_type": "error",
     "traceback": [
      "\u001b[1;31mRunning cells with 'Python 3.11.9' requires the ipykernel package.\n",
      "\u001b[1;31mRun the following command to install 'ipykernel' into the Python environment. \n",
      "\u001b[1;31mCommand: '\"c:/Program Files/Python311/python.exe\" -m pip install ipykernel -U --user --force-reinstall'"
     ]
    }
   ],
   "source": [
    "from .probe_spacing_calculator import save_loss_progress_PSO"
   ]
  },
  {
   "cell_type": "code",
   "execution_count": null,
   "metadata": {},
   "outputs": [],
   "source": [
    "# Locations of the Fixtures, see Table 5 in reference [1]:\n",
    "Fixture_1 = np.deg2rad([0, 80]) #degrees\n",
    "Fixture_2 = np.deg2rad([123, 130]) #degrees\n",
    "Fixture_3 = np.deg2rad([256, 330]) #degrees\n",
    "\n",
    "print(\"Fixture 1 = \", Fixture_1)\n",
    "print(\"Fixture 2 = \", Fixture_2)\n",
    "print(\"Fixture 3 = \", Fixture_3)\n",
    "\n",
    "difference_1_to_2 = Fixture_2[1] - Fixture_1[1]\n",
    "difference_2_to_3 = Fixture_3[0] - Fixture_2[1]\n",
    "print(\"Difference 1 to 2 = \", np.rad2deg(difference_1_to_2), 'degrees')\n",
    "print(\"Difference 1 to 2 = \", difference_1_to_2, 'radians')\n",
    "print(\"Difference 2 to 3 = \", np.rad2deg(difference_2_to_3), 'degrees')\n",
    "print(\"Difference 2 to 3 = \", difference_2_to_3, 'radians')\n",
    "print(\"-\"*100)\n",
    "\n",
    "lower_bound = [0.0477]*number_of_probes # min spacing between each probe\n",
    "lower_bound[0] = float(Fixture_1[1]) #enforcing probe 1 to be after first fixture\n",
    "\n",
    "# upper_bound = [float((difference_2_to_3)/number_of_probes)]*number_of_probes #Keeping each probe between end of fixture 2 and start of fixture 3\n",
    "upper_bound = [0.5*np.pi]*number_of_probes #As per recommendations in reference [1]\n",
    "upper_bound[0] = float(Fixture_2[0]) #enforcing probe 1 to be before second fixture\n",
    "\n",
    "print(\"Lower Bound = \", np.rad2deg(lower_bound), 'degrees')\n",
    "print(\"Lower Bound = \", lower_bound, 'radians')\n",
    "\n",
    "print(\"Upper Bound = \", np.rad2deg(upper_bound), 'degrees')\n",
    "print(\"Upper Bound = \", upper_bound, 'radians')\n",
    "\n",
    "print(\"-\"*100)\n",
    "print(\"Lower Bound Probe Positions:\", np.rad2deg(np.cumsum(lower_bound)), 'degrees')\n",
    "print(\"Upper Bound Probe Positions:\", np.rad2deg(np.cumsum(upper_bound)), 'degrees')\n",
    "\n",
    "\n",
    "# Perform the optimization\n",
    "best_probe_spacing, best_cost = pso(func=save_loss_progress_PSO, args=(use_equidistant_spacing_bool, EO_array, number_of_probes),\n",
    "                                    lb=lower_bound, ub=upper_bound, \n",
    "                                    swarmsize=num_particles, maxiter=num_iterations,\n",
    "                                    # f_ieqcons = constraints_PSO, \n",
    "                                    minstep = 1e-8, minfunc = 1E-12,\n",
    "                                    debug=True\n",
    "                                    )"
   ]
  }
 ],
 "metadata": {
  "kernelspec": {
   "display_name": "Python 3",
   "language": "python",
   "name": "python3"
  },
  "language_info": {
   "name": "python",
   "version": "3.11.9"
  }
 },
 "nbformat": 4,
 "nbformat_minor": 2
}
